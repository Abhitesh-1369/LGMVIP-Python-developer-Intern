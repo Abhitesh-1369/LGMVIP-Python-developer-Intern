{
  "nbformat": 4,
  "nbformat_minor": 0,
  "metadata": {
    "colab": {
      "provenance": []
    },
    "kernelspec": {
      "name": "python3",
      "display_name": "Python 3"
    },
    "language_info": {
      "name": "python"
    }
  },
  "cells": [
    {
      "cell_type": "code",
      "execution_count": 16,
      "metadata": {
        "colab": {
          "base_uri": "https://localhost:8080/"
        },
        "id": "eQGMse_wy88-",
        "outputId": "c1276a94-41e9-4753-a899-3b839ca35ca8"
      },
      "outputs": [
        {
          "output_type": "stream",
          "name": "stdout",
          "text": [
            "MoviePy - Building file /content/output.gif with imageio.\n"
          ]
        },
        {
          "output_type": "stream",
          "name": "stderr",
          "text": []
        }
      ],
      "source": [
        "from moviepy.editor import ImageSequenceClip\n",
        "\n",
        "def create_gif(input_images, output_gif, fps=10):\n",
        "    \"\"\"\n",
        "    Create a GIF from a list of input images.\n",
        "\n",
        "    Args:\n",
        "    - input_images (list): List of input image paths.\n",
        "    - output_gif (str): Path to save the output GIF.\n",
        "    - fps (int): Frames per second for the GIF. Default is 10.\n",
        "    \"\"\"\n",
        "    # Load images and create a video clip\n",
        "    clip = ImageSequenceClip(input_images, fps=fps)\n",
        "\n",
        "    # Write the GIF to the specified output file\n",
        "    clip.write_gif(output_gif, fps=fps)\n",
        "\n",
        "# Example usage\n",
        "input_images = [\"/content/s1 (1).png\",\"/content/ss2 (1).png\",\"/content/ss3 (1).png\"]\n",
        "output_gif = \"/content/output.gif\"\n",
        "create_gif(input_images, output_gif, fps=0.5)\n",
        "\n"
      ]
    }
  ]
}